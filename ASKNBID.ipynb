{
 "cells": [
  {
   "cell_type": "code",
   "execution_count": 1,
   "metadata": {},
   "outputs": [],
   "source": [
    "import pandas as pd"
   ]
  },
  {
   "cell_type": "code",
   "execution_count": 2,
   "metadata": {},
   "outputs": [],
   "source": [
    "df=pd.read_csv('C:/Users/asp-/Desktop/all folders/prices.csv')"
   ]
  },
  {
   "cell_type": "code",
   "execution_count": 3,
   "metadata": {},
   "outputs": [
    {
     "data": {
      "text/html": [
       "<div>\n",
       "<style scoped>\n",
       "    .dataframe tbody tr th:only-of-type {\n",
       "        vertical-align: middle;\n",
       "    }\n",
       "\n",
       "    .dataframe tbody tr th {\n",
       "        vertical-align: top;\n",
       "    }\n",
       "\n",
       "    .dataframe thead th {\n",
       "        text-align: right;\n",
       "    }\n",
       "</style>\n",
       "<table border=\"1\" class=\"dataframe\">\n",
       "  <thead>\n",
       "    <tr style=\"text-align: right;\">\n",
       "      <th></th>\n",
       "      <th>date</th>\n",
       "      <th>symbol</th>\n",
       "      <th>open</th>\n",
       "      <th>close</th>\n",
       "      <th>low</th>\n",
       "      <th>high</th>\n",
       "      <th>volume</th>\n",
       "    </tr>\n",
       "  </thead>\n",
       "  <tbody>\n",
       "    <tr>\n",
       "      <th>0</th>\n",
       "      <td>2016-01-05 00:00:00</td>\n",
       "      <td>WLTW</td>\n",
       "      <td>123.430000</td>\n",
       "      <td>125.839996</td>\n",
       "      <td>122.309998</td>\n",
       "      <td>126.250000</td>\n",
       "      <td>2163600.0</td>\n",
       "    </tr>\n",
       "    <tr>\n",
       "      <th>1</th>\n",
       "      <td>2016-01-06 00:00:00</td>\n",
       "      <td>WLTW</td>\n",
       "      <td>125.239998</td>\n",
       "      <td>119.980003</td>\n",
       "      <td>119.940002</td>\n",
       "      <td>125.540001</td>\n",
       "      <td>2386400.0</td>\n",
       "    </tr>\n",
       "    <tr>\n",
       "      <th>2</th>\n",
       "      <td>2016-01-07 00:00:00</td>\n",
       "      <td>WLTW</td>\n",
       "      <td>116.379997</td>\n",
       "      <td>114.949997</td>\n",
       "      <td>114.930000</td>\n",
       "      <td>119.739998</td>\n",
       "      <td>2489500.0</td>\n",
       "    </tr>\n",
       "    <tr>\n",
       "      <th>3</th>\n",
       "      <td>2016-01-08 00:00:00</td>\n",
       "      <td>WLTW</td>\n",
       "      <td>115.480003</td>\n",
       "      <td>116.620003</td>\n",
       "      <td>113.500000</td>\n",
       "      <td>117.440002</td>\n",
       "      <td>2006300.0</td>\n",
       "    </tr>\n",
       "    <tr>\n",
       "      <th>4</th>\n",
       "      <td>2016-01-11 00:00:00</td>\n",
       "      <td>WLTW</td>\n",
       "      <td>117.010002</td>\n",
       "      <td>114.970001</td>\n",
       "      <td>114.089996</td>\n",
       "      <td>117.330002</td>\n",
       "      <td>1408600.0</td>\n",
       "    </tr>\n",
       "  </tbody>\n",
       "</table>\n",
       "</div>"
      ],
      "text/plain": [
       "                  date symbol        open       close         low        high  \\\n",
       "0  2016-01-05 00:00:00   WLTW  123.430000  125.839996  122.309998  126.250000   \n",
       "1  2016-01-06 00:00:00   WLTW  125.239998  119.980003  119.940002  125.540001   \n",
       "2  2016-01-07 00:00:00   WLTW  116.379997  114.949997  114.930000  119.739998   \n",
       "3  2016-01-08 00:00:00   WLTW  115.480003  116.620003  113.500000  117.440002   \n",
       "4  2016-01-11 00:00:00   WLTW  117.010002  114.970001  114.089996  117.330002   \n",
       "\n",
       "      volume  \n",
       "0  2163600.0  \n",
       "1  2386400.0  \n",
       "2  2489500.0  \n",
       "3  2006300.0  \n",
       "4  1408600.0  "
      ]
     },
     "execution_count": 3,
     "metadata": {},
     "output_type": "execute_result"
    }
   ],
   "source": [
    "df.head()"
   ]
  },
  {
   "cell_type": "code",
   "execution_count": 4,
   "metadata": {},
   "outputs": [
    {
     "data": {
      "text/plain": [
       "(851264, 7)"
      ]
     },
     "execution_count": 4,
     "metadata": {},
     "output_type": "execute_result"
    }
   ],
   "source": [
    "df.shape"
   ]
  },
  {
   "cell_type": "code",
   "execution_count": 5,
   "metadata": {},
   "outputs": [
    {
     "data": {
      "text/plain": [
       "(1762, 1)"
      ]
     },
     "execution_count": 5,
     "metadata": {},
     "output_type": "execute_result"
    }
   ],
   "source": [
    "df1= df[df['symbol']=='YHOO']\n",
    "df1 = df1.close.values.astype('float32')\n",
    "df1 = df1.reshape(1762, 1)\n",
    "df1.shape\n"
   ]
  },
  {
   "cell_type": "code",
   "execution_count": 6,
   "metadata": {},
   "outputs": [
    {
     "data": {
      "text/plain": [
       "<Figure size 640x480 with 1 Axes>"
      ]
     },
     "metadata": {},
     "output_type": "display_data"
    }
   ],
   "source": [
    "import numpy as np\n",
    "import matplotlib.pyplot as plt\n",
    "from sklearn.preprocessing import MinMaxScaler\n",
    "plt.plot(df1)\n",
    "plt.show()\n",
    "\n",
    "scaler = MinMaxScaler(feature_range=(0, 1))\n",
    "df1= scaler.fit_transform(df1)"
   ]
  },
  {
   "cell_type": "code",
   "execution_count": 7,
   "metadata": {},
   "outputs": [
    {
     "data": {
      "text/plain": [
       "(1762, 1)"
      ]
     },
     "execution_count": 7,
     "metadata": {},
     "output_type": "execute_result"
    }
   ],
   "source": [
    "df1.shape"
   ]
  },
  {
   "cell_type": "markdown",
   "metadata": {},
   "source": []
  },
  {
   "cell_type": "code",
   "execution_count": 8,
   "metadata": {},
   "outputs": [
    {
     "data": {
      "text/plain": [
       "array([[0.14559111],\n",
       "       [0.14874032],\n",
       "       [0.14728683],\n",
       "       ...,\n",
       "       [0.66957366],\n",
       "       [0.66739345],\n",
       "       [0.66812015]], dtype=float32)"
      ]
     },
     "execution_count": 8,
     "metadata": {},
     "output_type": "execute_result"
    }
   ],
   "source": [
    "df1"
   ]
  },
  {
   "cell_type": "code",
   "execution_count": 9,
   "metadata": {},
   "outputs": [
    {
     "name": "stdout",
     "output_type": "stream",
     "text": [
      "1409 353\n"
     ]
    }
   ],
   "source": [
    "# test and train split\n",
    "train_size=int(len(df1)*0.80)\n",
    "test_size=len(df1)-train_size\n",
    "train, test = df1[0:train_size,:], df1[train_size:len(df1),:]\n",
    "print(len(train), len(test))"
   ]
  },
  {
   "cell_type": "code",
   "execution_count": 11,
   "metadata": {},
   "outputs": [],
   "source": [
    "import numpy as np\n",
    "def create_dataset(dataset,time_step=1):\n",
    "    dataX, dataY = [],[]\n",
    "    for i in range(len(dataset)-time_step-1):\n",
    "        a=dataset[i:(i+time_step),0]\n",
    "        dataX.append(a)\n",
    "        dataY.append(dataset[i+time_step,0])\n",
    "    return np.array(dataX), np.array(dataY)"
   ]
  },
  {
   "cell_type": "code",
   "execution_count": 12,
   "metadata": {},
   "outputs": [],
   "source": [
    "time_step=100\n",
    "X_train, Y_train= create_dataset(train,time_step)\n",
    "X_test, Y_test= create_dataset(test,time_step)"
   ]
  },
  {
   "cell_type": "code",
   "execution_count": 13,
   "metadata": {},
   "outputs": [
    {
     "name": "stdout",
     "output_type": "stream",
     "text": [
      "(1308, 100)\n",
      "(1308,)\n"
     ]
    },
    {
     "data": {
      "text/plain": [
       "(None, None)"
      ]
     },
     "execution_count": 13,
     "metadata": {},
     "output_type": "execute_result"
    }
   ],
   "source": [
    "print(X_train.shape), print(Y_train.shape)"
   ]
  },
  {
   "cell_type": "code",
   "execution_count": 14,
   "metadata": {},
   "outputs": [
    {
     "name": "stdout",
     "output_type": "stream",
     "text": [
      "(252, 100)\n",
      "(252,)\n"
     ]
    },
    {
     "data": {
      "text/plain": [
       "(None, None)"
      ]
     },
     "execution_count": 14,
     "metadata": {},
     "output_type": "execute_result"
    }
   ],
   "source": [
    "print(X_test.shape), print(Y_test.shape)"
   ]
  },
  {
   "cell_type": "code",
   "execution_count": 15,
   "metadata": {},
   "outputs": [],
   "source": [
    "X_train=X_train.reshape(X_train.shape[0],X_train.shape[1],1)\n",
    "X_test=X_test.reshape(X_test.shape[0],X_test.shape[1],1)"
   ]
  },
  {
   "cell_type": "code",
   "execution_count": 16,
   "metadata": {},
   "outputs": [
    {
     "name": "stdout",
     "output_type": "stream",
     "text": [
      "(1308, 100, 1)\n",
      "(1308,)\n"
     ]
    },
    {
     "data": {
      "text/plain": [
       "(None, None)"
      ]
     },
     "execution_count": 16,
     "metadata": {},
     "output_type": "execute_result"
    }
   ],
   "source": [
    "print(X_train.shape), print(Y_train.shape)"
   ]
  },
  {
   "cell_type": "code",
   "execution_count": 17,
   "metadata": {},
   "outputs": [
    {
     "name": "stdout",
     "output_type": "stream",
     "text": [
      "(252, 100, 1)\n",
      "(252,)\n"
     ]
    },
    {
     "data": {
      "text/plain": [
       "(None, None)"
      ]
     },
     "execution_count": 17,
     "metadata": {},
     "output_type": "execute_result"
    }
   ],
   "source": [
    "print(X_test.shape), print(Y_test.shape)"
   ]
  },
  {
   "cell_type": "code",
   "execution_count": 18,
   "metadata": {},
   "outputs": [],
   "source": [
    "from tensorflow.keras.models import Sequential\n",
    "from tensorflow.keras.layers import Dense\n",
    "from tensorflow.keras.layers import LSTM\n",
    "import time"
   ]
  },
  {
   "cell_type": "code",
   "execution_count": 19,
   "metadata": {},
   "outputs": [
    {
     "name": "stdout",
     "output_type": "stream",
     "text": [
      "WARNING:tensorflow:From C:\\Users\\asp-\\Anaconda3\\lib\\site-packages\\tensorflow\\python\\ops\\init_ops.py:1251: calling VarianceScaling.__init__ (from tensorflow.python.ops.init_ops) with dtype is deprecated and will be removed in a future version.\n",
      "Instructions for updating:\n",
      "Call initializer instance with the dtype argument instead of passing it to the constructor\n",
      "compilation time :  0.03124260902404785\n"
     ]
    }
   ],
   "source": [
    "#LSTM stack model\n",
    "lmodel=Sequential()\n",
    "model.add(LSTM(50,return_sequences=True,input_shape=(100,1)))\n",
    "model.add(LSTM(50,return_sequences=True))\n",
    "model.add(LSTM(50))\n",
    "model.add(Dense(1))\n",
    "\n",
    "start = time.time()\n",
    "model.compile(loss='mean_squared_error',optimizer='adam')\n",
    "print ('compilation time : ', time.time() - start)"
   ]
  },
  {
   "cell_type": "code",
   "execution_count": 20,
   "metadata": {},
   "outputs": [
    {
     "name": "stdout",
     "output_type": "stream",
     "text": [
      "Train on 1308 samples, validate on 252 samples\n",
      "WARNING:tensorflow:From C:\\Users\\asp-\\Anaconda3\\lib\\site-packages\\tensorflow\\python\\ops\\math_grad.py:1250: add_dispatch_support.<locals>.wrapper (from tensorflow.python.ops.array_ops) is deprecated and will be removed in a future version.\n",
      "Instructions for updating:\n",
      "Use tf.where in 2.0, which has the same broadcast rule as np.where\n",
      "Epoch 1/10\n",
      "Epoch 2/10\n",
      "Epoch 3/10\n",
      "Epoch 4/10\n",
      "Epoch 5/10\n",
      "Epoch 6/10\n",
      "Epoch 7/10\n",
      "Epoch 8/10\n",
      "Epoch 9/10\n",
      "Epoch 10/10\n"
     ]
    },
    {
     "data": {
      "text/plain": [
       "<tensorflow.python.keras.callbacks.History at 0x2aacdfacb38>"
      ]
     },
     "execution_count": 20,
     "metadata": {},
     "output_type": "execute_result"
    }
   ],
   "source": [
    "model.fit(X_train,Y_train,validation_data=(X_test,Y_test),epochs=10,batch_size=128,verbose=0.05)"
   ]
  },
  {
   "cell_type": "code",
   "execution_count": 21,
   "metadata": {},
   "outputs": [],
   "source": [
    "train_predict=model.predict(X_train)\n",
    "test_predict=model.predict(X_test)"
   ]
  },
  {
   "cell_type": "code",
   "execution_count": 22,
   "metadata": {},
   "outputs": [],
   "source": [
    "train_predict=scaler.inverse_transform(train_predict)\n",
    "test_predict=scaler.inverse_transform(test_predict)"
   ]
  },
  {
   "cell_type": "code",
   "execution_count": 25,
   "metadata": {},
   "outputs": [
    {
     "data": {
      "image/png": "[encoded data removed]",
      "text/plain": [
       "<Figure size 432x288 with 1 Axes>"
      ]
     },
     "metadata": {
      "needs_background": "light"
     },
     "output_type": "display_data"
    }
   ],
   "source": [
    "import numpy as np\n",
    "import matplotlib.pyplot as plt\n",
    "look_back=100\n",
    "trainPredictPlot=np.empty_like(df1)\n",
    "trainPredictPlot[:,:]=np.nan\n",
    "trainPredictPlot[look_back:len(train_predict)+look_back, :]=train_predict\n",
    "testPredictPlot=np.empty_like(df1)\n",
    "testPredictPlot[:,:]=np.nan\n",
    "testPredictPlot[len(train_predict)+(look_back*2)+1:len(df1)-1, :] =test_predict\n",
    "plt.plot(scaler.inverse_transform(df1))\n",
    "plt.plot(trainPredictPlot)\n",
    "plt.plot(testPredictPlot)\n",
    "plt.show()"
   ]
  },
  {
   "cell_type": "code",
   "execution_count": 26,
   "metadata": {},
   "outputs": [
    {
     "data": {
      "text/plain": [
       "353"
      ]
     },
     "execution_count": 26,
     "metadata": {},
     "output_type": "execute_result"
    }
   ],
   "source": [
    "len(test)"
   ]
  },
  {
   "cell_type": "code",
   "execution_count": 27,
   "metadata": {},
   "outputs": [
    {
     "data": {
      "text/plain": [
       "1409"
      ]
     },
     "execution_count": 27,
     "metadata": {},
     "output_type": "execute_result"
    }
   ],
   "source": [
    "len(train)"
   ]
  },
  {
   "cell_type": "code",
   "execution_count": 29,
   "metadata": {},
   "outputs": [
    {
     "data": {
      "text/plain": [
       "(1, 100)"
      ]
     },
     "execution_count": 29,
     "metadata": {},
     "output_type": "execute_result"
    }
   ],
   "source": [
    "x_input=test[253:].reshape(1,-1)\n",
    "x_input.shape"
   ]
  },
  {
   "cell_type": "code",
   "execution_count": 30,
   "metadata": {},
   "outputs": [],
   "source": [
    "temp_input=list(x_input)\n",
    "temp_input=temp_input[0].tolist()"
   ]
  },
  {
   "cell_type": "code",
   "execution_count": 31,
   "metadata": {},
   "outputs": [
    {
     "data": {
      "text/plain": [
       "[0.6986434459686279,\n",
       " 0.7311046719551086,\n",
       " 0.77156001329422,\n",
       " 0.7650193572044373,\n",
       " 0.7606589198112488,\n",
       " 0.7657461762428284,\n",
       " 0.7705911993980408,\n",
       " 0.7734981179237366,\n",
       " 0.7613857388496399,\n",
       " 0.7633236050605774,\n",
       " 0.746608555316925,\n",
       " 0.7495154738426208,\n",
       " 0.7553295493125916,\n",
       " 0.7550871968269348,\n",
       " 0.7628392577171326,\n",
       " 0.7669573426246643,\n",
       " 0.7713178992271423,\n",
       " 0.7797965407371521,\n",
       " 0.8144379258155823,\n",
       " 0.8057170510292053,\n",
       " 0.8059592843055725,\n",
       " 0.7710755467414856,\n",
       " 0.7841569781303406,\n",
       " 0.773982584476471,\n",
       " 0.7841569781303406,\n",
       " 0.7969961762428284,\n",
       " 0.7892441153526306,\n",
       " 0.7776163220405579,\n",
       " 0.7679263949394226,\n",
       " 0.8006297945976257,\n",
       " 0.8008721470832825,\n",
       " 0.7681686282157898,\n",
       " 0.7558140158653259,\n",
       " 0.7819767594337463,\n",
       " 0.7897287011146545,\n",
       " 0.7625969052314758,\n",
       " 0.7754359841346741,\n",
       " 0.7761628031730652,\n",
       " 0.7773740887641907,\n",
       " 0.7902131676673889,\n",
       " 0.7894864678382874,\n",
       " 0.7783430218696594,\n",
       " 0.7953004240989685,\n",
       " 0.765261709690094,\n",
       " 0.7575097680091858,\n",
       " 0.7395833134651184,\n",
       " 0.7352228760719299,\n",
       " 0.7437016367912292,\n",
       " 0.7410368323326111,\n",
       " 0.7664728760719299,\n",
       " 0.7579942345619202,\n",
       " 0.7529069781303406,\n",
       " 0.7630813717842102,\n",
       " 0.7621124386787415,\n",
       " 0.7507267594337463,\n",
       " 0.7456395030021667,\n",
       " 0.7434592843055725,\n",
       " 0.7378875613212585,\n",
       " 0.7325581908226013,\n",
       " 0.716812014579773,\n",
       " 0.705910861492157,\n",
       " 0.7071220874786377,\n",
       " 0.7257751822471619,\n",
       " 0.7284399271011353,\n",
       " 0.729651153087616,\n",
       " 0.7042151093482971,\n",
       " 0.7105135321617126,\n",
       " 0.6833817958831787,\n",
       " 0.7054263353347778,\n",
       " 0.7240794897079468,\n",
       " 0.7354651093482971,\n",
       " 0.7291666269302368,\n",
       " 0.7272287011146545,\n",
       " 0.7248061895370483,\n",
       " 0.7235949635505676,\n",
       " 0.7214147448539734,\n",
       " 0.7354651093482971,\n",
       " 0.739098846912384,\n",
       " 0.7250484824180603,\n",
       " 0.6913760304450989,\n",
       " 0.7020348906517029,\n",
       " 0.7051841616630554,\n",
       " 0.6996124386787415,\n",
       " 0.7129361033439636,\n",
       " 0.7344961762428284,\n",
       " 0.7429748177528381,\n",
       " 0.7318313717842102,\n",
       " 0.735949695110321,\n",
       " 0.7223837375640869,\n",
       " 0.661821722984314,\n",
       " 0.6666666865348816,\n",
       " 0.6620639562606812,\n",
       " 0.6799903512001038,\n",
       " 0.6797481179237366,\n",
       " 0.6640019416809082,\n",
       " 0.6678779125213623,\n",
       " 0.6741763353347778,\n",
       " 0.6695736646652222,\n",
       " 0.6673934459686279,\n",
       " 0.6681201457977295]"
      ]
     },
     "execution_count": 31,
     "metadata": {},
     "output_type": "execute_result"
    }
   ],
   "source": [
    "temp_input"
   ]
  },
  {
   "cell_type": "code",
   "execution_count": 41,
   "metadata": {},
   "outputs": [
    {
     "name": "stdout",
     "output_type": "stream",
     "text": [
      "0 day input [0.77156001 0.76501936 0.76065892 0.76574618 0.7705912  0.77349812\n",
      " 0.76138574 0.76332361 0.74660856 0.74951547 0.75532955 0.7550872\n",
      " 0.76283926 0.76695734 0.7713179  0.77979654 0.81443793 0.80571705\n",
      " 0.80595928 0.77107555 0.78415698 0.77398258 0.78415698 0.79699618\n",
      " 0.78924412 0.77761632 0.76792639 0.80062979 0.80087215 0.76816863\n",
      " 0.75581402 0.78197676 0.7897287  0.76259691 0.77543598 0.7761628\n",
      " 0.77737409 0.79021317 0.78948647 0.77834302 0.79530042 0.76526171\n",
      " 0.75750977 0.73958331 0.73522288 0.74370164 0.74103683 0.76647288\n",
      " 0.75799423 0.75290698 0.76308137 0.76211244 0.75072676 0.7456395\n",
      " 0.74345928 0.73788756 0.73255819 0.71681201 0.70591086 0.70712209\n",
      " 0.72577518 0.72843993 0.72965115 0.70421511 0.71051353 0.6833818\n",
      " 0.70542634 0.72407949 0.73546511 0.72916663 0.7272287  0.72480619\n",
      " 0.72359496 0.72141474 0.73546511 0.73909885 0.72504848 0.69137603\n",
      " 0.70203489 0.70518416 0.69961244 0.7129361  0.73449618 0.74297482\n",
      " 0.73183137 0.7359497  0.72238374 0.66182172 0.66666669 0.66206396\n",
      " 0.67999035 0.67974812 0.66400194 0.66787791 0.67417634 0.66957366\n",
      " 0.66739345 0.66812015 0.69703424 0.6945346 ]\n",
      "0 day input [[0.6927351]]\n",
      "1 day input [0.76501936 0.76065892 0.76574618 0.7705912  0.77349812 0.76138574\n",
      " 0.76332361 0.74660856 0.74951547 0.75532955 0.7550872  0.76283926\n",
      " 0.76695734 0.7713179  0.77979654 0.81443793 0.80571705 0.80595928\n",
      " 0.77107555 0.78415698 0.77398258 0.78415698 0.79699618 0.78924412\n",
      " 0.77761632 0.76792639 0.80062979 0.80087215 0.76816863 0.75581402\n",
      " 0.78197676 0.7897287  0.76259691 0.77543598 0.7761628  0.77737409\n",
      " 0.79021317 0.78948647 0.77834302 0.79530042 0.76526171 0.75750977\n",
      " 0.73958331 0.73522288 0.74370164 0.74103683 0.76647288 0.75799423\n",
      " 0.75290698 0.76308137 0.76211244 0.75072676 0.7456395  0.74345928\n",
      " 0.73788756 0.73255819 0.71681201 0.70591086 0.70712209 0.72577518\n",
      " 0.72843993 0.72965115 0.70421511 0.71051353 0.6833818  0.70542634\n",
      " 0.72407949 0.73546511 0.72916663 0.7272287  0.72480619 0.72359496\n",
      " 0.72141474 0.73546511 0.73909885 0.72504848 0.69137603 0.70203489\n",
      " 0.70518416 0.69961244 0.7129361  0.73449618 0.74297482 0.73183137\n",
      " 0.7359497  0.72238374 0.66182172 0.66666669 0.66206396 0.67999035\n",
      " 0.67974812 0.66400194 0.66787791 0.67417634 0.66957366 0.66739345\n",
      " 0.66812015 0.69703424 0.6945346  0.69273508]\n",
      "1 day input [[0.6916019]]\n",
      "2 day input [0.76065892 0.76574618 0.7705912  0.77349812 0.76138574 0.76332361\n",
      " 0.74660856 0.74951547 0.75532955 0.7550872  0.76283926 0.76695734\n",
      " 0.7713179  0.77979654 0.81443793 0.80571705 0.80595928 0.77107555\n",
      " 0.78415698 0.77398258 0.78415698 0.79699618 0.78924412 0.77761632\n",
      " 0.76792639 0.80062979 0.80087215 0.76816863 0.75581402 0.78197676\n",
      " 0.7897287  0.76259691 0.77543598 0.7761628  0.77737409 0.79021317\n",
      " 0.78948647 0.77834302 0.79530042 0.76526171 0.75750977 0.73958331\n",
      " 0.73522288 0.74370164 0.74103683 0.76647288 0.75799423 0.75290698\n",
      " 0.76308137 0.76211244 0.75072676 0.7456395  0.74345928 0.73788756\n",
      " 0.73255819 0.71681201 0.70591086 0.70712209 0.72577518 0.72843993\n",
      " 0.72965115 0.70421511 0.71051353 0.6833818  0.70542634 0.72407949\n",
      " 0.73546511 0.72916663 0.7272287  0.72480619 0.72359496 0.72141474\n",
      " 0.73546511 0.73909885 0.72504848 0.69137603 0.70203489 0.70518416\n",
      " 0.69961244 0.7129361  0.73449618 0.74297482 0.73183137 0.7359497\n",
      " 0.72238374 0.66182172 0.66666669 0.66206396 0.67999035 0.67974812\n",
      " 0.66400194 0.66787791 0.67417634 0.66957366 0.66739345 0.66812015\n",
      " 0.69703424 0.6945346  0.69273508 0.69160187]\n",
      "2 day input [[0.6910331]]\n",
      "3 day input [0.76574618 0.7705912  0.77349812 0.76138574 0.76332361 0.74660856\n",
      " 0.74951547 0.75532955 0.7550872  0.76283926 0.76695734 0.7713179\n",
      " 0.77979654 0.81443793 0.80571705 0.80595928 0.77107555 0.78415698\n",
      " 0.77398258 0.78415698 0.79699618 0.78924412 0.77761632 0.76792639\n",
      " 0.80062979 0.80087215 0.76816863 0.75581402 0.78197676 0.7897287\n",
      " 0.76259691 0.77543598 0.7761628  0.77737409 0.79021317 0.78948647\n",
      " 0.77834302 0.79530042 0.76526171 0.75750977 0.73958331 0.73522288\n",
      " 0.74370164 0.74103683 0.76647288 0.75799423 0.75290698 0.76308137\n",
      " 0.76211244 0.75072676 0.7456395  0.74345928 0.73788756 0.73255819\n",
      " 0.71681201 0.70591086 0.70712209 0.72577518 0.72843993 0.72965115\n",
      " 0.70421511 0.71051353 0.6833818  0.70542634 0.72407949 0.73546511\n",
      " 0.72916663 0.7272287  0.72480619 0.72359496 0.72141474 0.73546511\n",
      " 0.73909885 0.72504848 0.69137603 0.70203489 0.70518416 0.69961244\n",
      " 0.7129361  0.73449618 0.74297482 0.73183137 0.7359497  0.72238374\n",
      " 0.66182172 0.66666669 0.66206396 0.67999035 0.67974812 0.66400194\n",
      " 0.66787791 0.67417634 0.66957366 0.66739345 0.66812015 0.69703424\n",
      " 0.6945346  0.69273508 0.69160187 0.69103312]\n",
      "3 day input [[0.690906]]\n",
      "4 day input [0.7705912  0.77349812 0.76138574 0.76332361 0.74660856 0.74951547\n",
      " 0.75532955 0.7550872  0.76283926 0.76695734 0.7713179  0.77979654\n",
      " 0.81443793 0.80571705 0.80595928 0.77107555 0.78415698 0.77398258\n",
      " 0.78415698 0.79699618 0.78924412 0.77761632 0.76792639 0.80062979\n",
      " 0.80087215 0.76816863 0.75581402 0.78197676 0.7897287  0.76259691\n",
      " 0.77543598 0.7761628  0.77737409 0.79021317 0.78948647 0.77834302\n",
      " 0.79530042 0.76526171 0.75750977 0.73958331 0.73522288 0.74370164\n",
      " 0.74103683 0.76647288 0.75799423 0.75290698 0.76308137 0.76211244\n",
      " 0.75072676 0.7456395  0.74345928 0.73788756 0.73255819 0.71681201\n",
      " 0.70591086 0.70712209 0.72577518 0.72843993 0.72965115 0.70421511\n",
      " 0.71051353 0.6833818  0.70542634 0.72407949 0.73546511 0.72916663\n",
      " 0.7272287  0.72480619 0.72359496 0.72141474 0.73546511 0.73909885\n",
      " 0.72504848 0.69137603 0.70203489 0.70518416 0.69961244 0.7129361\n",
      " 0.73449618 0.74297482 0.73183137 0.7359497  0.72238374 0.66182172\n",
      " 0.66666669 0.66206396 0.67999035 0.67974812 0.66400194 0.66787791\n",
      " 0.67417634 0.66957366 0.66739345 0.66812015 0.69703424 0.6945346\n",
      " 0.69273508 0.69160187 0.69103312 0.69090599]\n",
      "4 day input [[0.6911032]]\n",
      "5 day input [0.77349812 0.76138574 0.76332361 0.74660856 0.74951547 0.75532955\n",
      " 0.7550872  0.76283926 0.76695734 0.7713179  0.77979654 0.81443793\n",
      " 0.80571705 0.80595928 0.77107555 0.78415698 0.77398258 0.78415698\n",
      " 0.79699618 0.78924412 0.77761632 0.76792639 0.80062979 0.80087215\n",
      " 0.76816863 0.75581402 0.78197676 0.7897287  0.76259691 0.77543598\n",
      " 0.7761628  0.77737409 0.79021317 0.78948647 0.77834302 0.79530042\n",
      " 0.76526171 0.75750977 0.73958331 0.73522288 0.74370164 0.74103683\n",
      " 0.76647288 0.75799423 0.75290698 0.76308137 0.76211244 0.75072676\n",
      " 0.7456395  0.74345928 0.73788756 0.73255819 0.71681201 0.70591086\n",
      " 0.70712209 0.72577518 0.72843993 0.72965115 0.70421511 0.71051353\n",
      " 0.6833818  0.70542634 0.72407949 0.73546511 0.72916663 0.7272287\n",
      " 0.72480619 0.72359496 0.72141474 0.73546511 0.73909885 0.72504848\n",
      " 0.69137603 0.70203489 0.70518416 0.69961244 0.7129361  0.73449618\n",
      " 0.74297482 0.73183137 0.7359497  0.72238374 0.66182172 0.66666669\n",
      " 0.66206396 0.67999035 0.67974812 0.66400194 0.66787791 0.67417634\n",
      " 0.66957366 0.66739345 0.66812015 0.69703424 0.6945346  0.69273508\n",
      " 0.69160187 0.69103312 0.69090599 0.69110322]\n",
      "5 day input [[0.6915251]]\n",
      "6 day input [0.76138574 0.76332361 0.74660856 0.74951547 0.75532955 0.7550872\n",
      " 0.76283926 0.76695734 0.7713179  0.77979654 0.81443793 0.80571705\n",
      " 0.80595928 0.77107555 0.78415698 0.77398258 0.78415698 0.79699618\n",
      " 0.78924412 0.77761632 0.76792639 0.80062979 0.80087215 0.76816863\n",
      " 0.75581402 0.78197676 0.7897287  0.76259691 0.77543598 0.7761628\n",
      " 0.77737409 0.79021317 0.78948647 0.77834302 0.79530042 0.76526171\n",
      " 0.75750977 0.73958331 0.73522288 0.74370164 0.74103683 0.76647288\n",
      " 0.75799423 0.75290698 0.76308137 0.76211244 0.75072676 0.7456395\n",
      " 0.74345928 0.73788756 0.73255819 0.71681201 0.70591086 0.70712209\n",
      " 0.72577518 0.72843993 0.72965115 0.70421511 0.71051353 0.6833818\n",
      " 0.70542634 0.72407949 0.73546511 0.72916663 0.7272287  0.72480619\n",
      " 0.72359496 0.72141474 0.73546511 0.73909885 0.72504848 0.69137603\n",
      " 0.70203489 0.70518416 0.69961244 0.7129361  0.73449618 0.74297482\n",
      " 0.73183137 0.7359497  0.72238374 0.66182172 0.66666669 0.66206396\n",
      " 0.67999035 0.67974812 0.66400194 0.66787791 0.67417634 0.66957366\n",
      " 0.66739345 0.66812015 0.69703424 0.6945346  0.69273508 0.69160187\n",
      " 0.69103312 0.69090599 0.69110322 0.6915251 ]\n",
      "6 day input [[0.6920936]]\n",
      "7 day input [0.76332361 0.74660856 0.74951547 0.75532955 0.7550872  0.76283926\n",
      " 0.76695734 0.7713179  0.77979654 0.81443793 0.80571705 0.80595928\n",
      " 0.77107555 0.78415698 0.77398258 0.78415698 0.79699618 0.78924412\n",
      " 0.77761632 0.76792639 0.80062979 0.80087215 0.76816863 0.75581402\n",
      " 0.78197676 0.7897287  0.76259691 0.77543598 0.7761628  0.77737409\n",
      " 0.79021317 0.78948647 0.77834302 0.79530042 0.76526171 0.75750977\n",
      " 0.73958331 0.73522288 0.74370164 0.74103683 0.76647288 0.75799423\n",
      " 0.75290698 0.76308137 0.76211244 0.75072676 0.7456395  0.74345928\n",
      " 0.73788756 0.73255819 0.71681201 0.70591086 0.70712209 0.72577518\n",
      " 0.72843993 0.72965115 0.70421511 0.71051353 0.6833818  0.70542634\n",
      " 0.72407949 0.73546511 0.72916663 0.7272287  0.72480619 0.72359496\n",
      " 0.72141474 0.73546511 0.73909885 0.72504848 0.69137603 0.70203489\n",
      " 0.70518416 0.69961244 0.7129361  0.73449618 0.74297482 0.73183137\n",
      " 0.7359497  0.72238374 0.66182172 0.66666669 0.66206396 0.67999035\n",
      " 0.67974812 0.66400194 0.66787791 0.67417634 0.66957366 0.66739345\n",
      " 0.66812015 0.69703424 0.6945346  0.69273508 0.69160187 0.69103312\n",
      " 0.69090599 0.69110322 0.6915251  0.69209361]\n"
     ]
    },
    {
     "name": "stdout",
     "output_type": "stream",
     "text": [
      "7 day input [[0.6927513]]\n",
      "8 day input [0.74660856 0.74951547 0.75532955 0.7550872  0.76283926 0.76695734\n",
      " 0.7713179  0.77979654 0.81443793 0.80571705 0.80595928 0.77107555\n",
      " 0.78415698 0.77398258 0.78415698 0.79699618 0.78924412 0.77761632\n",
      " 0.76792639 0.80062979 0.80087215 0.76816863 0.75581402 0.78197676\n",
      " 0.7897287  0.76259691 0.77543598 0.7761628  0.77737409 0.79021317\n",
      " 0.78948647 0.77834302 0.79530042 0.76526171 0.75750977 0.73958331\n",
      " 0.73522288 0.74370164 0.74103683 0.76647288 0.75799423 0.75290698\n",
      " 0.76308137 0.76211244 0.75072676 0.7456395  0.74345928 0.73788756\n",
      " 0.73255819 0.71681201 0.70591086 0.70712209 0.72577518 0.72843993\n",
      " 0.72965115 0.70421511 0.71051353 0.6833818  0.70542634 0.72407949\n",
      " 0.73546511 0.72916663 0.7272287  0.72480619 0.72359496 0.72141474\n",
      " 0.73546511 0.73909885 0.72504848 0.69137603 0.70203489 0.70518416\n",
      " 0.69961244 0.7129361  0.73449618 0.74297482 0.73183137 0.7359497\n",
      " 0.72238374 0.66182172 0.66666669 0.66206396 0.67999035 0.67974812\n",
      " 0.66400194 0.66787791 0.67417634 0.66957366 0.66739345 0.66812015\n",
      " 0.69703424 0.6945346  0.69273508 0.69160187 0.69103312 0.69090599\n",
      " 0.69110322 0.6915251  0.69209361 0.69275129]\n",
      "8 day input [[0.6934584]]\n",
      "9 day input [0.74951547 0.75532955 0.7550872  0.76283926 0.76695734 0.7713179\n",
      " 0.77979654 0.81443793 0.80571705 0.80595928 0.77107555 0.78415698\n",
      " 0.77398258 0.78415698 0.79699618 0.78924412 0.77761632 0.76792639\n",
      " 0.80062979 0.80087215 0.76816863 0.75581402 0.78197676 0.7897287\n",
      " 0.76259691 0.77543598 0.7761628  0.77737409 0.79021317 0.78948647\n",
      " 0.77834302 0.79530042 0.76526171 0.75750977 0.73958331 0.73522288\n",
      " 0.74370164 0.74103683 0.76647288 0.75799423 0.75290698 0.76308137\n",
      " 0.76211244 0.75072676 0.7456395  0.74345928 0.73788756 0.73255819\n",
      " 0.71681201 0.70591086 0.70712209 0.72577518 0.72843993 0.72965115\n",
      " 0.70421511 0.71051353 0.6833818  0.70542634 0.72407949 0.73546511\n",
      " 0.72916663 0.7272287  0.72480619 0.72359496 0.72141474 0.73546511\n",
      " 0.73909885 0.72504848 0.69137603 0.70203489 0.70518416 0.69961244\n",
      " 0.7129361  0.73449618 0.74297482 0.73183137 0.7359497  0.72238374\n",
      " 0.66182172 0.66666669 0.66206396 0.67999035 0.67974812 0.66400194\n",
      " 0.66787791 0.67417634 0.66957366 0.66739345 0.66812015 0.69703424\n",
      " 0.6945346  0.69273508 0.69160187 0.69103312 0.69090599 0.69110322\n",
      " 0.6915251  0.69209361 0.69275129 0.69345838]\n",
      "9 day input [[0.6941889]]\n",
      "10 day input [0.75532955 0.7550872  0.76283926 0.76695734 0.7713179  0.77979654\n",
      " 0.81443793 0.80571705 0.80595928 0.77107555 0.78415698 0.77398258\n",
      " 0.78415698 0.79699618 0.78924412 0.77761632 0.76792639 0.80062979\n",
      " 0.80087215 0.76816863 0.75581402 0.78197676 0.7897287  0.76259691\n",
      " 0.77543598 0.7761628  0.77737409 0.79021317 0.78948647 0.77834302\n",
      " 0.79530042 0.76526171 0.75750977 0.73958331 0.73522288 0.74370164\n",
      " 0.74103683 0.76647288 0.75799423 0.75290698 0.76308137 0.76211244\n",
      " 0.75072676 0.7456395  0.74345928 0.73788756 0.73255819 0.71681201\n",
      " 0.70591086 0.70712209 0.72577518 0.72843993 0.72965115 0.70421511\n",
      " 0.71051353 0.6833818  0.70542634 0.72407949 0.73546511 0.72916663\n",
      " 0.7272287  0.72480619 0.72359496 0.72141474 0.73546511 0.73909885\n",
      " 0.72504848 0.69137603 0.70203489 0.70518416 0.69961244 0.7129361\n",
      " 0.73449618 0.74297482 0.73183137 0.7359497  0.72238374 0.66182172\n",
      " 0.66666669 0.66206396 0.67999035 0.67974812 0.66400194 0.66787791\n",
      " 0.67417634 0.66957366 0.66739345 0.66812015 0.69703424 0.6945346\n",
      " 0.69273508 0.69160187 0.69103312 0.69090599 0.69110322 0.6915251\n",
      " 0.69209361 0.69275129 0.69345838 0.69418889]\n",
      "10 day input [[0.69492674]]\n",
      "11 day input [0.7550872  0.76283926 0.76695734 0.7713179  0.77979654 0.81443793\n",
      " 0.80571705 0.80595928 0.77107555 0.78415698 0.77398258 0.78415698\n",
      " 0.79699618 0.78924412 0.77761632 0.76792639 0.80062979 0.80087215\n",
      " 0.76816863 0.75581402 0.78197676 0.7897287  0.76259691 0.77543598\n",
      " 0.7761628  0.77737409 0.79021317 0.78948647 0.77834302 0.79530042\n",
      " 0.76526171 0.75750977 0.73958331 0.73522288 0.74370164 0.74103683\n",
      " 0.76647288 0.75799423 0.75290698 0.76308137 0.76211244 0.75072676\n",
      " 0.7456395  0.74345928 0.73788756 0.73255819 0.71681201 0.70591086\n",
      " 0.70712209 0.72577518 0.72843993 0.72965115 0.70421511 0.71051353\n",
      " 0.6833818  0.70542634 0.72407949 0.73546511 0.72916663 0.7272287\n",
      " 0.72480619 0.72359496 0.72141474 0.73546511 0.73909885 0.72504848\n",
      " 0.69137603 0.70203489 0.70518416 0.69961244 0.7129361  0.73449618\n",
      " 0.74297482 0.73183137 0.7359497  0.72238374 0.66182172 0.66666669\n",
      " 0.66206396 0.67999035 0.67974812 0.66400194 0.66787791 0.67417634\n",
      " 0.66957366 0.66739345 0.66812015 0.69703424 0.6945346  0.69273508\n",
      " 0.69160187 0.69103312 0.69090599 0.69110322 0.6915251  0.69209361\n",
      " 0.69275129 0.69345838 0.69418889 0.69492674]\n",
      "11 day input [[0.6956629]]\n",
      "12 day input [0.76283926 0.76695734 0.7713179  0.77979654 0.81443793 0.80571705\n",
      " 0.80595928 0.77107555 0.78415698 0.77398258 0.78415698 0.79699618\n",
      " 0.78924412 0.77761632 0.76792639 0.80062979 0.80087215 0.76816863\n",
      " 0.75581402 0.78197676 0.7897287  0.76259691 0.77543598 0.7761628\n",
      " 0.77737409 0.79021317 0.78948647 0.77834302 0.79530042 0.76526171\n",
      " 0.75750977 0.73958331 0.73522288 0.74370164 0.74103683 0.76647288\n",
      " 0.75799423 0.75290698 0.76308137 0.76211244 0.75072676 0.7456395\n",
      " 0.74345928 0.73788756 0.73255819 0.71681201 0.70591086 0.70712209\n",
      " 0.72577518 0.72843993 0.72965115 0.70421511 0.71051353 0.6833818\n",
      " 0.70542634 0.72407949 0.73546511 0.72916663 0.7272287  0.72480619\n",
      " 0.72359496 0.72141474 0.73546511 0.73909885 0.72504848 0.69137603\n",
      " 0.70203489 0.70518416 0.69961244 0.7129361  0.73449618 0.74297482\n",
      " 0.73183137 0.7359497  0.72238374 0.66182172 0.66666669 0.66206396\n",
      " 0.67999035 0.67974812 0.66400194 0.66787791 0.67417634 0.66957366\n",
      " 0.66739345 0.66812015 0.69703424 0.6945346  0.69273508 0.69160187\n",
      " 0.69103312 0.69090599 0.69110322 0.6915251  0.69209361 0.69275129\n",
      " 0.69345838 0.69418889 0.69492674 0.69566292]\n",
      "12 day input [[0.6963929]]\n",
      "13 day input [0.76695734 0.7713179  0.77979654 0.81443793 0.80571705 0.80595928\n",
      " 0.77107555 0.78415698 0.77398258 0.78415698 0.79699618 0.78924412\n",
      " 0.77761632 0.76792639 0.80062979 0.80087215 0.76816863 0.75581402\n",
      " 0.78197676 0.7897287  0.76259691 0.77543598 0.7761628  0.77737409\n",
      " 0.79021317 0.78948647 0.77834302 0.79530042 0.76526171 0.75750977\n",
      " 0.73958331 0.73522288 0.74370164 0.74103683 0.76647288 0.75799423\n",
      " 0.75290698 0.76308137 0.76211244 0.75072676 0.7456395  0.74345928\n",
      " 0.73788756 0.73255819 0.71681201 0.70591086 0.70712209 0.72577518\n",
      " 0.72843993 0.72965115 0.70421511 0.71051353 0.6833818  0.70542634\n",
      " 0.72407949 0.73546511 0.72916663 0.7272287  0.72480619 0.72359496\n",
      " 0.72141474 0.73546511 0.73909885 0.72504848 0.69137603 0.70203489\n",
      " 0.70518416 0.69961244 0.7129361  0.73449618 0.74297482 0.73183137\n",
      " 0.7359497  0.72238374 0.66182172 0.66666669 0.66206396 0.67999035\n",
      " 0.67974812 0.66400194 0.66787791 0.67417634 0.66957366 0.66739345\n",
      " 0.66812015 0.69703424 0.6945346  0.69273508 0.69160187 0.69103312\n",
      " 0.69090599 0.69110322 0.6915251  0.69209361 0.69275129 0.69345838\n",
      " 0.69418889 0.69492674 0.69566292 0.69639289]\n",
      "13 day input [[0.697115]]\n",
      "14 day input [0.7713179  0.77979654 0.81443793 0.80571705 0.80595928 0.77107555\n",
      " 0.78415698 0.77398258 0.78415698 0.79699618 0.78924412 0.77761632\n",
      " 0.76792639 0.80062979 0.80087215 0.76816863 0.75581402 0.78197676\n",
      " 0.7897287  0.76259691 0.77543598 0.7761628  0.77737409 0.79021317\n",
      " 0.78948647 0.77834302 0.79530042 0.76526171 0.75750977 0.73958331\n",
      " 0.73522288 0.74370164 0.74103683 0.76647288 0.75799423 0.75290698\n",
      " 0.76308137 0.76211244 0.75072676 0.7456395  0.74345928 0.73788756\n",
      " 0.73255819 0.71681201 0.70591086 0.70712209 0.72577518 0.72843993\n",
      " 0.72965115 0.70421511 0.71051353 0.6833818  0.70542634 0.72407949\n",
      " 0.73546511 0.72916663 0.7272287  0.72480619 0.72359496 0.72141474\n",
      " 0.73546511 0.73909885 0.72504848 0.69137603 0.70203489 0.70518416\n",
      " 0.69961244 0.7129361  0.73449618 0.74297482 0.73183137 0.7359497\n",
      " 0.72238374 0.66182172 0.66666669 0.66206396 0.67999035 0.67974812\n",
      " 0.66400194 0.66787791 0.67417634 0.66957366 0.66739345 0.66812015\n",
      " 0.69703424 0.6945346  0.69273508 0.69160187 0.69103312 0.69090599\n",
      " 0.69110322 0.6915251  0.69209361 0.69275129 0.69345838 0.69418889\n",
      " 0.69492674 0.69566292 0.69639289 0.697115  ]\n",
      "14 day input [[0.6978292]]\n",
      "15 day input [0.77979654 0.81443793 0.80571705 0.80595928 0.77107555 0.78415698\n",
      " 0.77398258 0.78415698 0.79699618 0.78924412 0.77761632 0.76792639\n",
      " 0.80062979 0.80087215 0.76816863 0.75581402 0.78197676 0.7897287\n",
      " 0.76259691 0.77543598 0.7761628  0.77737409 0.79021317 0.78948647\n",
      " 0.77834302 0.79530042 0.76526171 0.75750977 0.73958331 0.73522288\n",
      " 0.74370164 0.74103683 0.76647288 0.75799423 0.75290698 0.76308137\n",
      " 0.76211244 0.75072676 0.7456395  0.74345928 0.73788756 0.73255819\n",
      " 0.71681201 0.70591086 0.70712209 0.72577518 0.72843993 0.72965115\n",
      " 0.70421511 0.71051353 0.6833818  0.70542634 0.72407949 0.73546511\n",
      " 0.72916663 0.7272287  0.72480619 0.72359496 0.72141474 0.73546511\n",
      " 0.73909885 0.72504848 0.69137603 0.70203489 0.70518416 0.69961244\n",
      " 0.7129361  0.73449618 0.74297482 0.73183137 0.7359497  0.72238374\n",
      " 0.66182172 0.66666669 0.66206396 0.67999035 0.67974812 0.66400194\n",
      " 0.66787791 0.67417634 0.66957366 0.66739345 0.66812015 0.69703424\n",
      " 0.6945346  0.69273508 0.69160187 0.69103312 0.69090599 0.69110322\n",
      " 0.6915251  0.69209361 0.69275129 0.69345838 0.69418889 0.69492674\n",
      " 0.69566292 0.69639289 0.697115   0.69782919]\n",
      "15 day input [[0.69853616]]\n",
      "16 day input [0.81443793 0.80571705 0.80595928 0.77107555 0.78415698 0.77398258\n",
      " 0.78415698 0.79699618 0.78924412 0.77761632 0.76792639 0.80062979\n",
      " 0.80087215 0.76816863 0.75581402 0.78197676 0.7897287  0.76259691\n",
      " 0.77543598 0.7761628  0.77737409 0.79021317 0.78948647 0.77834302\n",
      " 0.79530042 0.76526171 0.75750977 0.73958331 0.73522288 0.74370164\n",
      " 0.74103683 0.76647288 0.75799423 0.75290698 0.76308137 0.76211244\n",
      " 0.75072676 0.7456395  0.74345928 0.73788756 0.73255819 0.71681201\n",
      " 0.70591086 0.70712209 0.72577518 0.72843993 0.72965115 0.70421511\n",
      " 0.71051353 0.6833818  0.70542634 0.72407949 0.73546511 0.72916663\n",
      " 0.7272287  0.72480619 0.72359496 0.72141474 0.73546511 0.73909885\n",
      " 0.72504848 0.69137603 0.70203489 0.70518416 0.69961244 0.7129361\n",
      " 0.73449618 0.74297482 0.73183137 0.7359497  0.72238374 0.66182172\n",
      " 0.66666669 0.66206396 0.67999035 0.67974812 0.66400194 0.66787791\n",
      " 0.67417634 0.66957366 0.66739345 0.66812015 0.69703424 0.6945346\n",
      " 0.69273508 0.69160187 0.69103312 0.69090599 0.69110322 0.6915251\n",
      " 0.69209361 0.69275129 0.69345838 0.69418889 0.69492674 0.69566292\n",
      " 0.69639289 0.697115   0.69782919 0.69853616]\n",
      "16 day input [[0.69923675]]\n",
      "17 day input [0.80571705 0.80595928 0.77107555 0.78415698 0.77398258 0.78415698\n",
      " 0.79699618 0.78924412 0.77761632 0.76792639 0.80062979 0.80087215\n",
      " 0.76816863 0.75581402 0.78197676 0.7897287  0.76259691 0.77543598\n",
      " 0.7761628  0.77737409 0.79021317 0.78948647 0.77834302 0.79530042\n",
      " 0.76526171 0.75750977 0.73958331 0.73522288 0.74370164 0.74103683\n",
      " 0.76647288 0.75799423 0.75290698 0.76308137 0.76211244 0.75072676\n",
      " 0.7456395  0.74345928 0.73788756 0.73255819 0.71681201 0.70591086\n",
      " 0.70712209 0.72577518 0.72843993 0.72965115 0.70421511 0.71051353\n",
      " 0.6833818  0.70542634 0.72407949 0.73546511 0.72916663 0.7272287\n",
      " 0.72480619 0.72359496 0.72141474 0.73546511 0.73909885 0.72504848\n",
      " 0.69137603 0.70203489 0.70518416 0.69961244 0.7129361  0.73449618\n",
      " 0.74297482 0.73183137 0.7359497  0.72238374 0.66182172 0.66666669\n",
      " 0.66206396 0.67999035 0.67974812 0.66400194 0.66787791 0.67417634\n",
      " 0.66957366 0.66739345 0.66812015 0.69703424 0.6945346  0.69273508\n",
      " 0.69160187 0.69103312 0.69090599 0.69110322 0.6915251  0.69209361\n",
      " 0.69275129 0.69345838 0.69418889 0.69492674 0.69566292 0.69639289\n",
      " 0.697115   0.69782919 0.69853616 0.69923675]\n",
      "17 day input [[0.69993186]]\n",
      "18 day input [0.80595928 0.77107555 0.78415698 0.77398258 0.78415698 0.79699618\n",
      " 0.78924412 0.77761632 0.76792639 0.80062979 0.80087215 0.76816863\n",
      " 0.75581402 0.78197676 0.7897287  0.76259691 0.77543598 0.7761628\n",
      " 0.77737409 0.79021317 0.78948647 0.77834302 0.79530042 0.76526171\n",
      " 0.75750977 0.73958331 0.73522288 0.74370164 0.74103683 0.76647288\n",
      " 0.75799423 0.75290698 0.76308137 0.76211244 0.75072676 0.7456395\n",
      " 0.74345928 0.73788756 0.73255819 0.71681201 0.70591086 0.70712209\n",
      " 0.72577518 0.72843993 0.72965115 0.70421511 0.71051353 0.6833818\n",
      " 0.70542634 0.72407949 0.73546511 0.72916663 0.7272287  0.72480619\n",
      " 0.72359496 0.72141474 0.73546511 0.73909885 0.72504848 0.69137603\n",
      " 0.70203489 0.70518416 0.69961244 0.7129361  0.73449618 0.74297482\n",
      " 0.73183137 0.7359497  0.72238374 0.66182172 0.66666669 0.66206396\n",
      " 0.67999035 0.67974812 0.66400194 0.66787791 0.67417634 0.66957366\n",
      " 0.66739345 0.66812015 0.69703424 0.6945346  0.69273508 0.69160187\n",
      " 0.69103312 0.69090599 0.69110322 0.6915251  0.69209361 0.69275129\n",
      " 0.69345838 0.69418889 0.69492674 0.69566292 0.69639289 0.697115\n",
      " 0.69782919 0.69853616 0.69923675 0.69993186]\n",
      "18 day input [[0.70062256]]\n",
      "19 day input [0.77107555 0.78415698 0.77398258 0.78415698 0.79699618 0.78924412\n",
      " 0.77761632 0.76792639 0.80062979 0.80087215 0.76816863 0.75581402\n",
      " 0.78197676 0.7897287  0.76259691 0.77543598 0.7761628  0.77737409\n",
      " 0.79021317 0.78948647 0.77834302 0.79530042 0.76526171 0.75750977\n",
      " 0.73958331 0.73522288 0.74370164 0.74103683 0.76647288 0.75799423\n",
      " 0.75290698 0.76308137 0.76211244 0.75072676 0.7456395  0.74345928\n",
      " 0.73788756 0.73255819 0.71681201 0.70591086 0.70712209 0.72577518\n",
      " 0.72843993 0.72965115 0.70421511 0.71051353 0.6833818  0.70542634\n",
      " 0.72407949 0.73546511 0.72916663 0.7272287  0.72480619 0.72359496\n",
      " 0.72141474 0.73546511 0.73909885 0.72504848 0.69137603 0.70203489\n",
      " 0.70518416 0.69961244 0.7129361  0.73449618 0.74297482 0.73183137\n",
      " 0.7359497  0.72238374 0.66182172 0.66666669 0.66206396 0.67999035\n",
      " 0.67974812 0.66400194 0.66787791 0.67417634 0.66957366 0.66739345\n",
      " 0.66812015 0.69703424 0.6945346  0.69273508 0.69160187 0.69103312\n",
      " 0.69090599 0.69110322 0.6915251  0.69209361 0.69275129 0.69345838\n",
      " 0.69418889 0.69492674 0.69566292 0.69639289 0.697115   0.69782919\n",
      " 0.69853616 0.69923675 0.69993186 0.70062256]\n"
     ]
    },
    {
     "name": "stdout",
     "output_type": "stream",
     "text": [
      "19 day input [[0.7013092]]\n",
      "20 day input [0.78415698 0.77398258 0.78415698 0.79699618 0.78924412 0.77761632\n",
      " 0.76792639 0.80062979 0.80087215 0.76816863 0.75581402 0.78197676\n",
      " 0.7897287  0.76259691 0.77543598 0.7761628  0.77737409 0.79021317\n",
      " 0.78948647 0.77834302 0.79530042 0.76526171 0.75750977 0.73958331\n",
      " 0.73522288 0.74370164 0.74103683 0.76647288 0.75799423 0.75290698\n",
      " 0.76308137 0.76211244 0.75072676 0.7456395  0.74345928 0.73788756\n",
      " 0.73255819 0.71681201 0.70591086 0.70712209 0.72577518 0.72843993\n",
      " 0.72965115 0.70421511 0.71051353 0.6833818  0.70542634 0.72407949\n",
      " 0.73546511 0.72916663 0.7272287  0.72480619 0.72359496 0.72141474\n",
      " 0.73546511 0.73909885 0.72504848 0.69137603 0.70203489 0.70518416\n",
      " 0.69961244 0.7129361  0.73449618 0.74297482 0.73183137 0.7359497\n",
      " 0.72238374 0.66182172 0.66666669 0.66206396 0.67999035 0.67974812\n",
      " 0.66400194 0.66787791 0.67417634 0.66957366 0.66739345 0.66812015\n",
      " 0.69703424 0.6945346  0.69273508 0.69160187 0.69103312 0.69090599\n",
      " 0.69110322 0.6915251  0.69209361 0.69275129 0.69345838 0.69418889\n",
      " 0.69492674 0.69566292 0.69639289 0.697115   0.69782919 0.69853616\n",
      " 0.69923675 0.69993186 0.70062256 0.7013092 ]\n",
      "20 day input [[0.7019925]]\n",
      "21 day input [0.77398258 0.78415698 0.79699618 0.78924412 0.77761632 0.76792639\n",
      " 0.80062979 0.80087215 0.76816863 0.75581402 0.78197676 0.7897287\n",
      " 0.76259691 0.77543598 0.7761628  0.77737409 0.79021317 0.78948647\n",
      " 0.77834302 0.79530042 0.76526171 0.75750977 0.73958331 0.73522288\n",
      " 0.74370164 0.74103683 0.76647288 0.75799423 0.75290698 0.76308137\n",
      " 0.76211244 0.75072676 0.7456395  0.74345928 0.73788756 0.73255819\n",
      " 0.71681201 0.70591086 0.70712209 0.72577518 0.72843993 0.72965115\n",
      " 0.70421511 0.71051353 0.6833818  0.70542634 0.72407949 0.73546511\n",
      " 0.72916663 0.7272287  0.72480619 0.72359496 0.72141474 0.73546511\n",
      " 0.73909885 0.72504848 0.69137603 0.70203489 0.70518416 0.69961244\n",
      " 0.7129361  0.73449618 0.74297482 0.73183137 0.7359497  0.72238374\n",
      " 0.66182172 0.66666669 0.66206396 0.67999035 0.67974812 0.66400194\n",
      " 0.66787791 0.67417634 0.66957366 0.66739345 0.66812015 0.69703424\n",
      " 0.6945346  0.69273508 0.69160187 0.69103312 0.69090599 0.69110322\n",
      " 0.6915251  0.69209361 0.69275129 0.69345838 0.69418889 0.69492674\n",
      " 0.69566292 0.69639289 0.697115   0.69782919 0.69853616 0.69923675\n",
      " 0.69993186 0.70062256 0.7013092  0.70199251]\n",
      "21 day input [[0.70267266]]\n",
      "22 day input [0.78415698 0.79699618 0.78924412 0.77761632 0.76792639 0.80062979\n",
      " 0.80087215 0.76816863 0.75581402 0.78197676 0.7897287  0.76259691\n",
      " 0.77543598 0.7761628  0.77737409 0.79021317 0.78948647 0.77834302\n",
      " 0.79530042 0.76526171 0.75750977 0.73958331 0.73522288 0.74370164\n",
      " 0.74103683 0.76647288 0.75799423 0.75290698 0.76308137 0.76211244\n",
      " 0.75072676 0.7456395  0.74345928 0.73788756 0.73255819 0.71681201\n",
      " 0.70591086 0.70712209 0.72577518 0.72843993 0.72965115 0.70421511\n",
      " 0.71051353 0.6833818  0.70542634 0.72407949 0.73546511 0.72916663\n",
      " 0.7272287  0.72480619 0.72359496 0.72141474 0.73546511 0.73909885\n",
      " 0.72504848 0.69137603 0.70203489 0.70518416 0.69961244 0.7129361\n",
      " 0.73449618 0.74297482 0.73183137 0.7359497  0.72238374 0.66182172\n",
      " 0.66666669 0.66206396 0.67999035 0.67974812 0.66400194 0.66787791\n",
      " 0.67417634 0.66957366 0.66739345 0.66812015 0.69703424 0.6945346\n",
      " 0.69273508 0.69160187 0.69103312 0.69090599 0.69110322 0.6915251\n",
      " 0.69209361 0.69275129 0.69345838 0.69418889 0.69492674 0.69566292\n",
      " 0.69639289 0.697115   0.69782919 0.69853616 0.69923675 0.69993186\n",
      " 0.70062256 0.7013092  0.70199251 0.70267266]\n",
      "22 day input [[0.70335007]]\n",
      "23 day input [0.79699618 0.78924412 0.77761632 0.76792639 0.80062979 0.80087215\n",
      " 0.76816863 0.75581402 0.78197676 0.7897287  0.76259691 0.77543598\n",
      " 0.7761628  0.77737409 0.79021317 0.78948647 0.77834302 0.79530042\n",
      " 0.76526171 0.75750977 0.73958331 0.73522288 0.74370164 0.74103683\n",
      " 0.76647288 0.75799423 0.75290698 0.76308137 0.76211244 0.75072676\n",
      " 0.7456395  0.74345928 0.73788756 0.73255819 0.71681201 0.70591086\n",
      " 0.70712209 0.72577518 0.72843993 0.72965115 0.70421511 0.71051353\n",
      " 0.6833818  0.70542634 0.72407949 0.73546511 0.72916663 0.7272287\n",
      " 0.72480619 0.72359496 0.72141474 0.73546511 0.73909885 0.72504848\n",
      " 0.69137603 0.70203489 0.70518416 0.69961244 0.7129361  0.73449618\n",
      " 0.74297482 0.73183137 0.7359497  0.72238374 0.66182172 0.66666669\n",
      " 0.66206396 0.67999035 0.67974812 0.66400194 0.66787791 0.67417634\n",
      " 0.66957366 0.66739345 0.66812015 0.69703424 0.6945346  0.69273508\n",
      " 0.69160187 0.69103312 0.69090599 0.69110322 0.6915251  0.69209361\n",
      " 0.69275129 0.69345838 0.69418889 0.69492674 0.69566292 0.69639289\n",
      " 0.697115   0.69782919 0.69853616 0.69923675 0.69993186 0.70062256\n",
      " 0.7013092  0.70199251 0.70267266 0.70335007]\n",
      "23 day input [[0.7040247]]\n",
      "24 day input [0.78924412 0.77761632 0.76792639 0.80062979 0.80087215 0.76816863\n",
      " 0.75581402 0.78197676 0.7897287  0.76259691 0.77543598 0.7761628\n",
      " 0.77737409 0.79021317 0.78948647 0.77834302 0.79530042 0.76526171\n",
      " 0.75750977 0.73958331 0.73522288 0.74370164 0.74103683 0.76647288\n",
      " 0.75799423 0.75290698 0.76308137 0.76211244 0.75072676 0.7456395\n",
      " 0.74345928 0.73788756 0.73255819 0.71681201 0.70591086 0.70712209\n",
      " 0.72577518 0.72843993 0.72965115 0.70421511 0.71051353 0.6833818\n",
      " 0.70542634 0.72407949 0.73546511 0.72916663 0.7272287  0.72480619\n",
      " 0.72359496 0.72141474 0.73546511 0.73909885 0.72504848 0.69137603\n",
      " 0.70203489 0.70518416 0.69961244 0.7129361  0.73449618 0.74297482\n",
      " 0.73183137 0.7359497  0.72238374 0.66182172 0.66666669 0.66206396\n",
      " 0.67999035 0.67974812 0.66400194 0.66787791 0.67417634 0.66957366\n",
      " 0.66739345 0.66812015 0.69703424 0.6945346  0.69273508 0.69160187\n",
      " 0.69103312 0.69090599 0.69110322 0.6915251  0.69209361 0.69275129\n",
      " 0.69345838 0.69418889 0.69492674 0.69566292 0.69639289 0.697115\n",
      " 0.69782919 0.69853616 0.69923675 0.69993186 0.70062256 0.7013092\n",
      " 0.70199251 0.70267266 0.70335007 0.70402467]\n",
      "24 day input [[0.70469666]]\n",
      "25 day input [0.77761632 0.76792639 0.80062979 0.80087215 0.76816863 0.75581402\n",
      " 0.78197676 0.7897287  0.76259691 0.77543598 0.7761628  0.77737409\n",
      " 0.79021317 0.78948647 0.77834302 0.79530042 0.76526171 0.75750977\n",
      " 0.73958331 0.73522288 0.74370164 0.74103683 0.76647288 0.75799423\n",
      " 0.75290698 0.76308137 0.76211244 0.75072676 0.7456395  0.74345928\n",
      " 0.73788756 0.73255819 0.71681201 0.70591086 0.70712209 0.72577518\n",
      " 0.72843993 0.72965115 0.70421511 0.71051353 0.6833818  0.70542634\n",
      " 0.72407949 0.73546511 0.72916663 0.7272287  0.72480619 0.72359496\n",
      " 0.72141474 0.73546511 0.73909885 0.72504848 0.69137603 0.70203489\n",
      " 0.70518416 0.69961244 0.7129361  0.73449618 0.74297482 0.73183137\n",
      " 0.7359497  0.72238374 0.66182172 0.66666669 0.66206396 0.67999035\n",
      " 0.67974812 0.66400194 0.66787791 0.67417634 0.66957366 0.66739345\n",
      " 0.66812015 0.69703424 0.6945346  0.69273508 0.69160187 0.69103312\n",
      " 0.69090599 0.69110322 0.6915251  0.69209361 0.69275129 0.69345838\n",
      " 0.69418889 0.69492674 0.69566292 0.69639289 0.697115   0.69782919\n",
      " 0.69853616 0.69923675 0.69993186 0.70062256 0.7013092  0.70199251\n",
      " 0.70267266 0.70335007 0.70402467 0.70469666]\n",
      "25 day input [[0.705366]]\n",
      "26 day input [0.76792639 0.80062979 0.80087215 0.76816863 0.75581402 0.78197676\n",
      " 0.7897287  0.76259691 0.77543598 0.7761628  0.77737409 0.79021317\n",
      " 0.78948647 0.77834302 0.79530042 0.76526171 0.75750977 0.73958331\n",
      " 0.73522288 0.74370164 0.74103683 0.76647288 0.75799423 0.75290698\n",
      " 0.76308137 0.76211244 0.75072676 0.7456395  0.74345928 0.73788756\n",
      " 0.73255819 0.71681201 0.70591086 0.70712209 0.72577518 0.72843993\n",
      " 0.72965115 0.70421511 0.71051353 0.6833818  0.70542634 0.72407949\n",
      " 0.73546511 0.72916663 0.7272287  0.72480619 0.72359496 0.72141474\n",
      " 0.73546511 0.73909885 0.72504848 0.69137603 0.70203489 0.70518416\n",
      " 0.69961244 0.7129361  0.73449618 0.74297482 0.73183137 0.7359497\n",
      " 0.72238374 0.66182172 0.66666669 0.66206396 0.67999035 0.67974812\n",
      " 0.66400194 0.66787791 0.67417634 0.66957366 0.66739345 0.66812015\n",
      " 0.69703424 0.6945346  0.69273508 0.69160187 0.69103312 0.69090599\n",
      " 0.69110322 0.6915251  0.69209361 0.69275129 0.69345838 0.69418889\n",
      " 0.69492674 0.69566292 0.69639289 0.697115   0.69782919 0.69853616\n",
      " 0.69923675 0.69993186 0.70062256 0.7013092  0.70199251 0.70267266\n",
      " 0.70335007 0.70402467 0.70469666 0.70536602]\n",
      "26 day input [[0.7060329]]\n",
      "27 day input [0.80062979 0.80087215 0.76816863 0.75581402 0.78197676 0.7897287\n",
      " 0.76259691 0.77543598 0.7761628  0.77737409 0.79021317 0.78948647\n",
      " 0.77834302 0.79530042 0.76526171 0.75750977 0.73958331 0.73522288\n",
      " 0.74370164 0.74103683 0.76647288 0.75799423 0.75290698 0.76308137\n",
      " 0.76211244 0.75072676 0.7456395  0.74345928 0.73788756 0.73255819\n",
      " 0.71681201 0.70591086 0.70712209 0.72577518 0.72843993 0.72965115\n",
      " 0.70421511 0.71051353 0.6833818  0.70542634 0.72407949 0.73546511\n",
      " 0.72916663 0.7272287  0.72480619 0.72359496 0.72141474 0.73546511\n",
      " 0.73909885 0.72504848 0.69137603 0.70203489 0.70518416 0.69961244\n",
      " 0.7129361  0.73449618 0.74297482 0.73183137 0.7359497  0.72238374\n",
      " 0.66182172 0.66666669 0.66206396 0.67999035 0.67974812 0.66400194\n",
      " 0.66787791 0.67417634 0.66957366 0.66739345 0.66812015 0.69703424\n",
      " 0.6945346  0.69273508 0.69160187 0.69103312 0.69090599 0.69110322\n",
      " 0.6915251  0.69209361 0.69275129 0.69345838 0.69418889 0.69492674\n",
      " 0.69566292 0.69639289 0.697115   0.69782919 0.69853616 0.69923675\n",
      " 0.69993186 0.70062256 0.7013092  0.70199251 0.70267266 0.70335007\n",
      " 0.70402467 0.70469666 0.70536602 0.70603287]\n",
      "27 day input [[0.70669705]]\n",
      "28 day input [0.80087215 0.76816863 0.75581402 0.78197676 0.7897287  0.76259691\n",
      " 0.77543598 0.7761628  0.77737409 0.79021317 0.78948647 0.77834302\n",
      " 0.79530042 0.76526171 0.75750977 0.73958331 0.73522288 0.74370164\n",
      " 0.74103683 0.76647288 0.75799423 0.75290698 0.76308137 0.76211244\n",
      " 0.75072676 0.7456395  0.74345928 0.73788756 0.73255819 0.71681201\n",
      " 0.70591086 0.70712209 0.72577518 0.72843993 0.72965115 0.70421511\n",
      " 0.71051353 0.6833818  0.70542634 0.72407949 0.73546511 0.72916663\n",
      " 0.7272287  0.72480619 0.72359496 0.72141474 0.73546511 0.73909885\n",
      " 0.72504848 0.69137603 0.70203489 0.70518416 0.69961244 0.7129361\n",
      " 0.73449618 0.74297482 0.73183137 0.7359497  0.72238374 0.66182172\n",
      " 0.66666669 0.66206396 0.67999035 0.67974812 0.66400194 0.66787791\n",
      " 0.67417634 0.66957366 0.66739345 0.66812015 0.69703424 0.6945346\n",
      " 0.69273508 0.69160187 0.69103312 0.69090599 0.69110322 0.6915251\n",
      " 0.69209361 0.69275129 0.69345838 0.69418889 0.69492674 0.69566292\n",
      " 0.69639289 0.697115   0.69782919 0.69853616 0.69923675 0.69993186\n",
      " 0.70062256 0.7013092  0.70199251 0.70267266 0.70335007 0.70402467\n",
      " 0.70469666 0.70536602 0.70603287 0.70669705]\n",
      "28 day input [[0.70735866]]\n",
      "29 day input [0.76816863 0.75581402 0.78197676 0.7897287  0.76259691 0.77543598\n",
      " 0.7761628  0.77737409 0.79021317 0.78948647 0.77834302 0.79530042\n",
      " 0.76526171 0.75750977 0.73958331 0.73522288 0.74370164 0.74103683\n",
      " 0.76647288 0.75799423 0.75290698 0.76308137 0.76211244 0.75072676\n",
      " 0.7456395  0.74345928 0.73788756 0.73255819 0.71681201 0.70591086\n",
      " 0.70712209 0.72577518 0.72843993 0.72965115 0.70421511 0.71051353\n",
      " 0.6833818  0.70542634 0.72407949 0.73546511 0.72916663 0.7272287\n",
      " 0.72480619 0.72359496 0.72141474 0.73546511 0.73909885 0.72504848\n",
      " 0.69137603 0.70203489 0.70518416 0.69961244 0.7129361  0.73449618\n",
      " 0.74297482 0.73183137 0.7359497  0.72238374 0.66182172 0.66666669\n",
      " 0.66206396 0.67999035 0.67974812 0.66400194 0.66787791 0.67417634\n",
      " 0.66957366 0.66739345 0.66812015 0.69703424 0.6945346  0.69273508\n",
      " 0.69160187 0.69103312 0.69090599 0.69110322 0.6915251  0.69209361\n",
      " 0.69275129 0.69345838 0.69418889 0.69492674 0.69566292 0.69639289\n",
      " 0.697115   0.69782919 0.69853616 0.69923675 0.69993186 0.70062256\n",
      " 0.7013092  0.70199251 0.70267266 0.70335007 0.70402467 0.70469666\n",
      " 0.70536602 0.70603287 0.70669705 0.70735866]\n",
      "29 day input [[0.7080177]]\n",
      "[[0.6927350759506226], [0.6916018724441528], [0.691033124923706], [0.6909059882164001], [0.6911032199859619], [0.6915251016616821], [0.6920936107635498], [0.6927512884140015], [0.6934583783149719], [0.6941888928413391], [0.6949267387390137], [0.6956629157066345], [0.6963928937911987], [0.6971150040626526], [0.6978291869163513], [0.6985361576080322], [0.6992367506027222], [0.6999318599700928], [0.70062255859375], [0.7013092041015625], [0.7019925117492676], [0.7026726603507996], [0.7033500671386719], [0.7040246725082397], [0.7046966552734375], [0.7053660154342651], [0.7060328722000122], [0.7066970467567444], [0.7073586583137512], [0.7080177068710327]]\n"
     ]
    }
   ],
   "source": [
    "from numpy import array\n",
    "lst_output=[]\n",
    "n_steps=100\n",
    "i=0\n",
    "while(i<30):\n",
    "    if(len(temp_input)>100):\n",
    "        x_input=np.array(temp_input[1:])\n",
    "        print(\"{} day input {}\".format(i,x_input))\n",
    "        x_input=x_input.reshape(1,-1)\n",
    "        x_input=x_input.reshape((1,n_steps,1))\n",
    "        yhat=model.predict(x_input,verbose=0)\n",
    "        print(\"{} day input {}\".format(i,yhat))\n",
    "        temp_input.extend(yhat[0].tolist())\n",
    "        temp_input=temp_input[1:]\n",
    "        lst_output.extend(yhat.tolist())\n",
    "        i=i+1\n",
    "    else:\n",
    "        x_input=x_input.reshape((1,n_steps,1))\n",
    "        yhat=model.predict(x_input,verbose=0)\n",
    "        print(yhat[0])\n",
    "        temp_input.extend(yhat[0].tolist())\n",
    "        print(len(temp_input))\n",
    "        lst_output.extend(yhat.tolist())\n",
    "        i=i+1\n",
    "print(lst_output)\n",
    "        \n",
    "        \n",
    "        "
   ]
  },
  {
   "cell_type": "code",
   "execution_count": 42,
   "metadata": {},
   "outputs": [],
   "source": [
    "day_new=np.arange(1,101)\n",
    "day_pred=np.arange(101,131)"
   ]
  },
  {
   "cell_type": "code",
   "execution_count": 43,
   "metadata": {},
   "outputs": [],
   "source": [
    "import matplotlib.pyplot as plt\n"
   ]
  },
  {
   "cell_type": "code",
   "execution_count": 44,
   "metadata": {},
   "outputs": [
    {
     "data": {
      "text/plain": [
       "1762"
      ]
     },
     "execution_count": 44,
     "metadata": {},
     "output_type": "execute_result"
    }
   ],
   "source": [
    "len(df1)"
   ]
  },
  {
   "cell_type": "code",
   "execution_count": 37,
   "metadata": {},
   "outputs": [],
   "source": [
    "df3=df1.tolist()\n",
    "df3.extend(lst_output)"
   ]
  },
  {
   "cell_type": "code",
   "execution_count": 45,
   "metadata": {},
   "outputs": [
    {
     "data": {
      "text/plain": [
       "[<matplotlib.lines.Line2D at 0x2aaff34bc18>]"
      ]
     },
     "execution_count": 45,
     "metadata": {},
     "output_type": "execute_result"
    },
    {
     "data": {
      "image/png": "[encoded data removed]",
      "text/plain": [
       "<Figure size 432x288 with 1 Axes>"
      ]
     },
     "metadata": {
      "needs_background": "light"
     },
     "output_type": "display_data"
    }
   ],
   "source": [
    "plt.plot(day_new,scaler.inverse_transform(df1[1662:]))\n",
    "plt.plot(day_pred,scaler.inverse_transform(lst_output))"
   ]
  },
  {
   "cell_type": "code",
   "execution_count": 51,
   "metadata": {},
   "outputs": [
    {
     "data": {
      "text/plain": [
       "[<matplotlib.lines.Line2D at 0x2aaff5710b8>]"
      ]
     },
     "execution_count": 51,
     "metadata": {},
     "output_type": "execute_result"
    },
    {
     "data": {
      "image/png": "[encoded data removed]",
      "text/plain": [
       "<Figure size 432x288 with 1 Axes>"
      ]
     },
     "metadata": {
      "needs_background": "light"
     },
     "output_type": "display_data"
    }
   ],
   "source": [
    "df3=df1.tolist()\n",
    "df3.extend(lst_output)\n",
    "plt.plot(df3[1000:])"
   ]
  },
  {
   "cell_type": "code",
   "execution_count": null,
   "metadata": {},
   "outputs": [],
   "source": []
  }
 ],
 "metadata": {
  "kernelspec": {
   "display_name": "Python 3",
   "language": "python",
   "name": "python3"
  },
  "language_info": {
   "codemirror_mode": {
    "name": "ipython",
    "version": 3
   },
   "file_extension": ".py",
   "mimetype": "text/x-python",
   "name": "python",
   "nbconvert_exporter": "python",
   "pygments_lexer": "ipython3",
   "version": "3.7.3"
  }
 },
 "nbformat": 4,
 "nbformat_minor": 2
}
